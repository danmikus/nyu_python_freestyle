{
 "cells": [
  {
   "cell_type": "markdown",
   "metadata": {},
   "source": [
    "![alt text](http://www.logoeps.net/wp-content/uploads/2014/01/nyu_logo_new_york_university2-785x154.jpg \"NYU logo\")"
   ]
  },
  {
   "cell_type": "markdown",
   "metadata": {},
   "source": [
    "# NYC Event Heatmap"
   ]
  },
  {
   "cell_type": "markdown",
   "metadata": {},
   "source": [
    "#### Thanks for using! This notebook pulls event permit data for NYC from [this](https://data.cityofnewyork.us/City-Government/NYC-Permitted-Event-Information/tvpp-9vvx/data) table on the NYC OpenData site. It does require a Google API key to transcode the addresses to coordinates, so read the README if you need help. Finally, make sure to run every section to avoid errors."
   ]
  },
  {
   "cell_type": "markdown",
   "metadata": {
    "collapsed": true
   },
   "source": [
    "### Import Libraries"
   ]
  },
  {
   "cell_type": "code",
   "execution_count": null,
   "metadata": {
    "collapsed": true
   },
   "outputs": [],
   "source": [
    "import os\n",
    "import pprint as pp\n",
    "import heatlib.heat\n",
    "import gmaps"
   ]
  },
  {
   "cell_type": "markdown",
   "metadata": {},
   "source": [
    "### Input the date to analyze:\n",
    "##### Note: enter the date in YYYY-MM-DD format"
   ]
  },
  {
   "cell_type": "code",
   "execution_count": null,
   "metadata": {},
   "outputs": [],
   "source": [
    "analysis_date = \"2017-08-07\"# enter date here\n",
    "\n",
    "formatted_dates = heatlib.heat.format_time(analysis_date)\n",
    "print(formatted_dates)"
   ]
  },
  {
   "cell_type": "markdown",
   "metadata": {},
   "source": [
    "### Input your Google API key:\n",
    "#### Note: if you already named the environment variable *'GEOKEY'*, then you don't need to change it"
   ]
  },
  {
   "cell_type": "code",
   "execution_count": null,
   "metadata": {
    "collapsed": true
   },
   "outputs": [],
   "source": [
    "api_key = os.environ['GEOKEY']"
   ]
  },
  {
   "cell_type": "markdown",
   "metadata": {},
   "source": [
    "### Get Data"
   ]
  },
  {
   "cell_type": "code",
   "execution_count": null,
   "metadata": {},
   "outputs": [],
   "source": [
    "beginning = formatted_dates[\"beginning\"]\n",
    "end = formatted_dates[\"end\"]\n",
    "\n",
    "dict_list = heatlib.heat.get_city_data(beginning, end)\n",
    "pp.pprint(dict_list)"
   ]
  },
  {
   "cell_type": "markdown",
   "metadata": {},
   "source": [
    "### Convert Addresses to Coordinates\n",
    "##### Note: this can take ~10 minutes to run"
   ]
  },
  {
   "cell_type": "code",
   "execution_count": null,
   "metadata": {},
   "outputs": [],
   "source": [
    "coords = heatlib.heat.get_coords(api_key, dict_list)\n",
    "\n",
    "for coord in coords:\n",
    "    print(\"Address: {0}; Latitude: {1}; Longitude: {2}\".format(coord.address(), coord.latitude(), coord.longitude()))"
   ]
  },
  {
   "cell_type": "markdown",
   "metadata": {},
   "source": [
    "### Transform to Usable Coordinate Pairs"
   ]
  },
  {
   "cell_type": "code",
   "execution_count": null,
   "metadata": {},
   "outputs": [],
   "source": [
    "pairs = heatlib.heat.transform_coords(coords)\n",
    "pp.pprint(pairs)"
   ]
  },
  {
   "cell_type": "markdown",
   "metadata": {
    "collapsed": true
   },
   "source": [
    "### Create Heatmap"
   ]
  },
  {
   "cell_type": "code",
   "execution_count": null,
   "metadata": {},
   "outputs": [],
   "source": [
    "heatlib.heat.create_map(pairs, api_key)"
   ]
  }
 ],
 "metadata": {
  "kernelspec": {
   "display_name": "Python 3",
   "language": "python",
   "name": "python3"
  },
  "language_info": {
   "codemirror_mode": {
    "name": "ipython",
    "version": 3
   },
   "file_extension": ".py",
   "mimetype": "text/x-python",
   "name": "python",
   "nbconvert_exporter": "python",
   "pygments_lexer": "ipython3",
   "version": "3.6.1"
  }
 },
 "nbformat": 4,
 "nbformat_minor": 2
}
